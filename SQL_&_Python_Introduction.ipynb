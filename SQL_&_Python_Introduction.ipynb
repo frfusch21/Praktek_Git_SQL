{
  "nbformat": 4,
  "nbformat_minor": 0,
  "metadata": {
    "colab": {
      "provenance": [],
      "collapsed_sections": [],
      "authorship_tag": "ABX9TyMYjkr05lhZWLH9JYtvr8i/",
      "include_colab_link": true
    },
    "kernelspec": {
      "name": "python3",
      "display_name": "Python 3"
    },
    "language_info": {
      "name": "python"
    }
  },
  "cells": [
    {
      "cell_type": "markdown",
      "metadata": {
        "id": "view-in-github",
        "colab_type": "text"
      },
      "source": [
        "<a href=\"https://colab.research.google.com/github/frfusch21/Praktek_Git_SQL/blob/master/SQL_%26_Python_Introduction.ipynb\" target=\"_parent\"><img src=\"https://colab.research.google.com/assets/colab-badge.svg\" alt=\"Open In Colab\"/></a>"
      ]
    },
    {
      "cell_type": "markdown",
      "source": [
        "# **Install Library psycopg2**"
      ],
      "metadata": {
        "id": "cQDweS15J2F5"
      }
    },
    {
      "cell_type": "markdown",
      "source": [
        "psycopg2 adalah library python untuk menghubungkan dengan PostgreSQL\n",
        "\n",
        "\n",
        "*   Library lain untuk SQL Server = pyodbc\n",
        "*   Library lain untuk MySQL = msqli\n",
        "*   Library lain untuk SQLite = sqlite\n",
        "\n"
      ],
      "metadata": {
        "id": "RWNYqXKTJ6bF"
      }
    },
    {
      "cell_type": "code",
      "execution_count": 11,
      "metadata": {
        "colab": {
          "base_uri": "https://localhost:8080/"
        },
        "id": "Yvdiry0zExzS",
        "outputId": "c2437aa6-5816-42e0-a819-f2db06ac7197"
      },
      "outputs": [
        {
          "output_type": "stream",
          "name": "stdout",
          "text": [
            "Looking in indexes: https://pypi.org/simple, https://us-python.pkg.dev/colab-wheels/public/simple/\n",
            "Requirement already satisfied: psycopg2 in /usr/local/lib/python3.7/dist-packages (2.9.3)\n"
          ]
        }
      ],
      "source": [
        "!pip install psycopg2 #Install Library psycopg2"
      ]
    },
    {
      "cell_type": "markdown",
      "source": [
        "# **Import Library**"
      ],
      "metadata": {
        "id": "TuZZqzJpKgv_"
      }
    },
    {
      "cell_type": "markdown",
      "source": [
        "Import Library psycopg2 dan pandas.\n",
        "\n",
        "\n",
        "*   psycopg2 untuk connect/menghubungkan dengan database postgreSQL\n",
        "*   pandas untuk pengolahan data didalam python\n",
        "\n"
      ],
      "metadata": {
        "id": "XGqLHTENKmmm"
      }
    },
    {
      "cell_type": "code",
      "source": [
        "#import library\n",
        "import psycopg2\n",
        "import pandas as pd"
      ],
      "metadata": {
        "id": "IePD9ecmFBk2"
      },
      "execution_count": null,
      "outputs": []
    },
    {
      "cell_type": "code",
      "source": [
        "conn = psycopg2.connect(\n",
        "          host = \"digitalskoladb.c04me33o8tni.ap-southeast-1.rds.amazonaws.com\",\n",
        "          database = 'sandbox',\n",
        "          user = 'se_sql1_p',\n",
        "          password = 'lholho12345!')\n",
        "conn.set_client_encoding('UTF8')"
      ],
      "metadata": {
        "id": "0gB_A0ldFFZ2"
      },
      "execution_count": null,
      "outputs": []
    },
    {
      "cell_type": "code",
      "source": [
        "sql1 = \"\"\"SELECT *\n",
        "         FROM public.user_tab;\"\"\"\n",
        "table_user = pd.read_sql_query(sql1, conn)\n",
        "table_user"
      ],
      "metadata": {
        "id": "z3z3qo3OFfj2"
      },
      "execution_count": null,
      "outputs": []
    }
  ]
}